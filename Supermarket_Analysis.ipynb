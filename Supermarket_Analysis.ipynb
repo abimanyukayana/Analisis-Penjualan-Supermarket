{
 "cells": [
  {
   "cell_type": "markdown",
   "metadata": {},
   "source": [
    "=============================================================\n",
    "\n",
    "MILESTONE 1\n",
    "\n",
    "Nama : Abimanyu Kayana Maheswara\n",
    "\n",
    "Batch : HCK - 020\n",
    "\n",
    "Link Dashboard : https://public.tableau.com/shared/R7QF29RMM?:display_count=n&:origin=viz_share_link\n",
    "\n",
    "============================================================="
   ]
  },
  {
   "cell_type": "markdown",
   "metadata": {},
   "source": [
    "# **Identifikasi Masalah**\n"
   ]
  },
  {
   "cell_type": "markdown",
   "metadata": {},
   "source": [
    "## Latar Belakang\n",
    "  \n",
    "> <p align = \"justify\"> Dalam dunia ritel, memahami perilaku konsumen dan tren penjualan adalah kunci untuk mempertahankan daya saing. Supermarket yang tersebar di beberapa kota perlu menyesuaikan strategi pemasaran mereka dengan demografi dan preferensi lokal. Analisis data penjualan berdasarkan kategori produk, jenis kelamin, dan tipe pelanggan dapat memberikan wawasan penting yang membantu dalam mengembangkan strategi penjualan yang lebih efektif dan tepat sasaran. Dengan menggunakan data ini, kita dapat mengidentifikasi pola pembelian dan tren yang mendukung keputusan bisnis yang lebih baik."
   ]
  },
  {
   "cell_type": "markdown",
   "metadata": {},
   "source": [
    "## Topik Permasalahan\n",
    "> Optimalisasi penjualan supermarket dengan analisis pola pembelian pelanggan berdasarkan kategori produk, jenis kelamin, dan tipe pelanggan di berbagai kota."
   ]
  },
  {
   "cell_type": "markdown",
   "metadata": {},
   "source": [
    "## Problem Statement\n",
    "\n",
    "- **Specific** : Meningkatkan penjualan di cabang supermarket dengan memfokuskan pada preferensi pelanggan terkait kategori produk, jenis kelamin, dan tipe pelanggan.\n",
    "\n",
    "- **Measurable** : Menargetkan peningkatan total penjualan sebesar 10% dalam enam bulan.\n",
    "\n",
    "- **Achievable** : Menggunakan analisis data yang ada untuk mengidentifikasi peluang peningkatan penjualan melalui strategi pemasaran yang tepat sasaran.\n",
    "\n",
    "- **Relevant** : Fokus pada peningkatan penjualan cabang yang memiliki performa lebih rendah dan memaksimalkan kategori produk yang lebih populer di kalangan pelanggan.\n",
    "\n",
    "- **Time-Bound** : Mencapai peningkatan penjualan dalam waktu enam bulan."
   ]
  },
  {
   "cell_type": "markdown",
   "metadata": {},
   "source": [
    "## Penjabaran Masalah\n",
    "\n",
    "-  Kategori produk apa yang memiliki total penjualan tertinggi?\n",
    "\n",
    "- Bagaimana distribusi penjualan antara pelanggan pria dan wanita?\n",
    "\n",
    "- Cabang mana yang memiliki total penjualan tertinggi?\n",
    "\n",
    "- Apakah anggota (members) memiliki tren pembelian yang berbeda dibandingkan pelanggan biasa?\n",
    "\n",
    "- Berapa rata-rata penjualan per transaksi?\n",
    "\n",
    "- Apakah ada perbedaan signifikan dalam rata-rata penjualan antar cabang?"
   ]
  },
  {
   "cell_type": "markdown",
   "metadata": {},
   "source": [
    "# **Data Loading**\n",
    "<p align = \"justify\"> Pada bagian ini, saya melakukan loading data dari file CSV dan eksplorasi data sederhana untuk memahami struktur dan karakteristik data yang digunakan. Dataset yang digunakan berasal dari Kaggle.\n",
    "\n",
    "## Source Dataset\n",
    "> source : https://www.kaggle.com/datasets/aungpyaeap/supermarket-sales"
   ]
  },
  {
   "cell_type": "markdown",
   "metadata": {},
   "source": [
    "## Import Dataset"
   ]
  },
  {
   "cell_type": "code",
   "execution_count": 1,
   "metadata": {},
   "outputs": [],
   "source": [
    "import pandas as pd"
   ]
  },
  {
   "cell_type": "markdown",
   "metadata": {},
   "source": [
    "## Membaca File CSV"
   ]
  },
  {
   "cell_type": "code",
   "execution_count": 29,
   "metadata": {},
   "outputs": [],
   "source": [
    "df = pd.read_csv('supermarket_sales.csv')"
   ]
  },
  {
   "cell_type": "markdown",
   "metadata": {},
   "source": [
    "# Data Dictionary\n",
    "| Kolom                   | Deskripsi                                                                                           |\n",
    "|-------------------------|-----------------------------------------------------------------------------------------------------|\n",
    "| Invoice ID              | ID unik untuk setiap transaksi penjualan.                                                           |\n",
    "| Branch                  | Cabang supermarket tempat transaksi dilakukan.                                                     |\n",
    "| City                    | Kota tempat cabang supermarket berada.                                                              |\n",
    "| Customer type           | Tipe pelanggan, misalnya \"Member\" atau \"Normal\".                                                     |\n",
    "| Gender                  | Jenis kelamin pelanggan, misalnya \"Male\" atau \"Female\".                                               |\n",
    "| Product line            | Kategori produk yang dijual, misalnya \"Fashion accessories\", \"Electronics\", dll.                     |\n",
    "| Unit price              | Harga per unit produk sebelum pajak.                                                                 |\n",
    "| Quantity                | Jumlah unit produk yang dibeli dalam transaksi tersebut.                                             |\n",
    "| Tax 5%                  | Jumlah pajak 5% yang dikenakan pada total harga produk.                                              |\n",
    "| Total                   | Total biaya transaksi setelah pajak.                                                                 |\n",
    "| Date                    | Tanggal transaksi dilakukan.                                                                         |\n",
    "| Time                    | Waktu transaksi dilakukan.                                                                         |\n",
    "| Payment                 | Metode pembayaran yang digunakan, misalnya \"Cash\", \"Credit card\", \"E-wallet\", dll.                    |\n",
    "| cogs                    | Cost of Goods Sold, yaitu biaya produksi barang yang terjual.                                         |\n",
    "| gross margin percentage | Persentase margin kotor, yaitu selisih antara total penjualan dan biaya barang yang terjual.       |\n",
    "| gross income            | Pendapatan kotor dari transaksi, yaitu total penjualan dikurangi biaya barang yang terjual.           |\n",
    "| Rating                  | Penilaian atau rating yang diberikan pada produk oleh pelanggan, biasanya dalam bentuk angka.         |"
   ]
  },
  {
   "cell_type": "markdown",
   "metadata": {},
   "source": [
    "## menampilkan 5 baris pertama dari DataFrame "
   ]
  },
  {
   "cell_type": "code",
   "execution_count": 3,
   "metadata": {},
   "outputs": [
    {
     "data": {
      "text/html": [
       "<div>\n",
       "<style scoped>\n",
       "    .dataframe tbody tr th:only-of-type {\n",
       "        vertical-align: middle;\n",
       "    }\n",
       "\n",
       "    .dataframe tbody tr th {\n",
       "        vertical-align: top;\n",
       "    }\n",
       "\n",
       "    .dataframe thead th {\n",
       "        text-align: right;\n",
       "    }\n",
       "</style>\n",
       "<table border=\"1\" class=\"dataframe\">\n",
       "  <thead>\n",
       "    <tr style=\"text-align: right;\">\n",
       "      <th></th>\n",
       "      <th>Invoice ID</th>\n",
       "      <th>Branch</th>\n",
       "      <th>City</th>\n",
       "      <th>Customer type</th>\n",
       "      <th>Gender</th>\n",
       "      <th>Product line</th>\n",
       "      <th>Unit price</th>\n",
       "      <th>Quantity</th>\n",
       "      <th>Tax 5%</th>\n",
       "      <th>Total</th>\n",
       "      <th>Date</th>\n",
       "      <th>Time</th>\n",
       "      <th>Payment</th>\n",
       "      <th>cogs</th>\n",
       "      <th>gross margin percentage</th>\n",
       "      <th>gross income</th>\n",
       "      <th>Rating</th>\n",
       "    </tr>\n",
       "  </thead>\n",
       "  <tbody>\n",
       "    <tr>\n",
       "      <th>0</th>\n",
       "      <td>750-67-8428</td>\n",
       "      <td>A</td>\n",
       "      <td>Yangon</td>\n",
       "      <td>Member</td>\n",
       "      <td>Female</td>\n",
       "      <td>Health and beauty</td>\n",
       "      <td>74.69</td>\n",
       "      <td>7</td>\n",
       "      <td>26.1415</td>\n",
       "      <td>548.9715</td>\n",
       "      <td>1/5/2019</td>\n",
       "      <td>13:08</td>\n",
       "      <td>Ewallet</td>\n",
       "      <td>522.83</td>\n",
       "      <td>4.761905</td>\n",
       "      <td>26.1415</td>\n",
       "      <td>9.1</td>\n",
       "    </tr>\n",
       "    <tr>\n",
       "      <th>1</th>\n",
       "      <td>226-31-3081</td>\n",
       "      <td>C</td>\n",
       "      <td>Naypyitaw</td>\n",
       "      <td>Normal</td>\n",
       "      <td>Female</td>\n",
       "      <td>Electronic accessories</td>\n",
       "      <td>15.28</td>\n",
       "      <td>5</td>\n",
       "      <td>3.8200</td>\n",
       "      <td>80.2200</td>\n",
       "      <td>3/8/2019</td>\n",
       "      <td>10:29</td>\n",
       "      <td>Cash</td>\n",
       "      <td>76.40</td>\n",
       "      <td>4.761905</td>\n",
       "      <td>3.8200</td>\n",
       "      <td>9.6</td>\n",
       "    </tr>\n",
       "    <tr>\n",
       "      <th>2</th>\n",
       "      <td>631-41-3108</td>\n",
       "      <td>A</td>\n",
       "      <td>Yangon</td>\n",
       "      <td>Normal</td>\n",
       "      <td>Male</td>\n",
       "      <td>Home and lifestyle</td>\n",
       "      <td>46.33</td>\n",
       "      <td>7</td>\n",
       "      <td>16.2155</td>\n",
       "      <td>340.5255</td>\n",
       "      <td>3/3/2019</td>\n",
       "      <td>13:23</td>\n",
       "      <td>Credit card</td>\n",
       "      <td>324.31</td>\n",
       "      <td>4.761905</td>\n",
       "      <td>16.2155</td>\n",
       "      <td>7.4</td>\n",
       "    </tr>\n",
       "    <tr>\n",
       "      <th>3</th>\n",
       "      <td>123-19-1176</td>\n",
       "      <td>A</td>\n",
       "      <td>Yangon</td>\n",
       "      <td>Member</td>\n",
       "      <td>Male</td>\n",
       "      <td>Health and beauty</td>\n",
       "      <td>58.22</td>\n",
       "      <td>8</td>\n",
       "      <td>23.2880</td>\n",
       "      <td>489.0480</td>\n",
       "      <td>1/27/2019</td>\n",
       "      <td>20:33</td>\n",
       "      <td>Ewallet</td>\n",
       "      <td>465.76</td>\n",
       "      <td>4.761905</td>\n",
       "      <td>23.2880</td>\n",
       "      <td>8.4</td>\n",
       "    </tr>\n",
       "    <tr>\n",
       "      <th>4</th>\n",
       "      <td>373-73-7910</td>\n",
       "      <td>A</td>\n",
       "      <td>Yangon</td>\n",
       "      <td>Normal</td>\n",
       "      <td>Male</td>\n",
       "      <td>Sports and travel</td>\n",
       "      <td>86.31</td>\n",
       "      <td>7</td>\n",
       "      <td>30.2085</td>\n",
       "      <td>634.3785</td>\n",
       "      <td>2/8/2019</td>\n",
       "      <td>10:37</td>\n",
       "      <td>Ewallet</td>\n",
       "      <td>604.17</td>\n",
       "      <td>4.761905</td>\n",
       "      <td>30.2085</td>\n",
       "      <td>5.3</td>\n",
       "    </tr>\n",
       "  </tbody>\n",
       "</table>\n",
       "</div>"
      ],
      "text/plain": [
       "    Invoice ID Branch       City Customer type  Gender  \\\n",
       "0  750-67-8428      A     Yangon        Member  Female   \n",
       "1  226-31-3081      C  Naypyitaw        Normal  Female   \n",
       "2  631-41-3108      A     Yangon        Normal    Male   \n",
       "3  123-19-1176      A     Yangon        Member    Male   \n",
       "4  373-73-7910      A     Yangon        Normal    Male   \n",
       "\n",
       "             Product line  Unit price  Quantity   Tax 5%     Total       Date  \\\n",
       "0       Health and beauty       74.69         7  26.1415  548.9715   1/5/2019   \n",
       "1  Electronic accessories       15.28         5   3.8200   80.2200   3/8/2019   \n",
       "2      Home and lifestyle       46.33         7  16.2155  340.5255   3/3/2019   \n",
       "3       Health and beauty       58.22         8  23.2880  489.0480  1/27/2019   \n",
       "4       Sports and travel       86.31         7  30.2085  634.3785   2/8/2019   \n",
       "\n",
       "    Time      Payment    cogs  gross margin percentage  gross income  Rating  \n",
       "0  13:08      Ewallet  522.83                 4.761905       26.1415     9.1  \n",
       "1  10:29         Cash   76.40                 4.761905        3.8200     9.6  \n",
       "2  13:23  Credit card  324.31                 4.761905       16.2155     7.4  \n",
       "3  20:33      Ewallet  465.76                 4.761905       23.2880     8.4  \n",
       "4  10:37      Ewallet  604.17                 4.761905       30.2085     5.3  "
      ]
     },
     "execution_count": 3,
     "metadata": {},
     "output_type": "execute_result"
    }
   ],
   "source": [
    "df.head(5)"
   ]
  },
  {
   "cell_type": "markdown",
   "metadata": {},
   "source": [
    "## Melihat ringkasan informasi pada dataset"
   ]
  },
  {
   "cell_type": "code",
   "execution_count": 4,
   "metadata": {},
   "outputs": [
    {
     "name": "stdout",
     "output_type": "stream",
     "text": [
      "<class 'pandas.core.frame.DataFrame'>\n",
      "RangeIndex: 1000 entries, 0 to 999\n",
      "Data columns (total 17 columns):\n",
      " #   Column                   Non-Null Count  Dtype  \n",
      "---  ------                   --------------  -----  \n",
      " 0   Invoice ID               1000 non-null   object \n",
      " 1   Branch                   1000 non-null   object \n",
      " 2   City                     1000 non-null   object \n",
      " 3   Customer type            1000 non-null   object \n",
      " 4   Gender                   1000 non-null   object \n",
      " 5   Product line             1000 non-null   object \n",
      " 6   Unit price               1000 non-null   float64\n",
      " 7   Quantity                 1000 non-null   int64  \n",
      " 8   Tax 5%                   1000 non-null   float64\n",
      " 9   Total                    1000 non-null   float64\n",
      " 10  Date                     1000 non-null   object \n",
      " 11  Time                     1000 non-null   object \n",
      " 12  Payment                  1000 non-null   object \n",
      " 13  cogs                     1000 non-null   float64\n",
      " 14  gross margin percentage  1000 non-null   float64\n",
      " 15  gross income             1000 non-null   float64\n",
      " 16  Rating                   1000 non-null   float64\n",
      "dtypes: float64(7), int64(1), object(9)\n",
      "memory usage: 132.9+ KB\n"
     ]
    }
   ],
   "source": [
    "df.info()"
   ]
  },
  {
   "cell_type": "markdown",
   "metadata": {},
   "source": [
    "# Data Cleaning"
   ]
  },
  {
   "cell_type": "code",
   "execution_count": 30,
   "metadata": {},
   "outputs": [
    {
     "data": {
      "text/plain": [
       "Invoice ID                 0\n",
       "Branch                     0\n",
       "City                       0\n",
       "Customer type              0\n",
       "Gender                     0\n",
       "Product line               0\n",
       "Unit price                 0\n",
       "Quantity                   0\n",
       "Tax 5%                     0\n",
       "Total                      0\n",
       "Date                       0\n",
       "Time                       0\n",
       "Payment                    0\n",
       "cogs                       0\n",
       "gross margin percentage    0\n",
       "gross income               0\n",
       "Rating                     0\n",
       "dtype: int64"
      ]
     },
     "execution_count": 30,
     "metadata": {},
     "output_type": "execute_result"
    }
   ],
   "source": [
    "# Check Missing Value\n",
    "df.isnull().sum()"
   ]
  },
  {
   "cell_type": "markdown",
   "metadata": {},
   "source": [
    "## Merubah Tipe Data"
   ]
  },
  {
   "cell_type": "markdown",
   "metadata": {},
   "source": [
    "### mengubah kolom Date dalam DataFrame df menjadi tipe data datetime"
   ]
  },
  {
   "cell_type": "code",
   "execution_count": 6,
   "metadata": {},
   "outputs": [],
   "source": [
    "# Import datetime\n",
    "import datetime"
   ]
  },
  {
   "cell_type": "code",
   "execution_count": 7,
   "metadata": {},
   "outputs": [],
   "source": [
    "# buat salinan dari DataFrame\n",
    "data = df.copy()"
   ]
  },
  {
   "cell_type": "code",
   "execution_count": 8,
   "metadata": {},
   "outputs": [],
   "source": [
    "# Mengubah dataframe\n",
    "data['Date'] = pd.to_datetime(data['Date'])"
   ]
  },
  {
   "cell_type": "code",
   "execution_count": 9,
   "metadata": {},
   "outputs": [],
   "source": [
    "#  mengonversi kolom 'Time' dalam DataFrame data menjadi objek 'time'\n",
    "data['Time'] = data['Time'].apply(pd.to_datetime, format='%H:%M').dt.time"
   ]
  },
  {
   "cell_type": "markdown",
   "metadata": {},
   "source": [
    "### Menampilkan ringkasan informasi tentang DataFrame"
   ]
  },
  {
   "cell_type": "code",
   "execution_count": 10,
   "metadata": {},
   "outputs": [
    {
     "name": "stdout",
     "output_type": "stream",
     "text": [
      "<class 'pandas.core.frame.DataFrame'>\n",
      "RangeIndex: 1000 entries, 0 to 999\n",
      "Data columns (total 17 columns):\n",
      " #   Column                   Non-Null Count  Dtype         \n",
      "---  ------                   --------------  -----         \n",
      " 0   Invoice ID               1000 non-null   object        \n",
      " 1   Branch                   1000 non-null   object        \n",
      " 2   City                     1000 non-null   object        \n",
      " 3   Customer type            1000 non-null   object        \n",
      " 4   Gender                   1000 non-null   object        \n",
      " 5   Product line             1000 non-null   object        \n",
      " 6   Unit price               1000 non-null   float64       \n",
      " 7   Quantity                 1000 non-null   int64         \n",
      " 8   Tax 5%                   1000 non-null   float64       \n",
      " 9   Total                    1000 non-null   float64       \n",
      " 10  Date                     1000 non-null   datetime64[ns]\n",
      " 11  Time                     1000 non-null   object        \n",
      " 12  Payment                  1000 non-null   object        \n",
      " 13  cogs                     1000 non-null   float64       \n",
      " 14  gross margin percentage  1000 non-null   float64       \n",
      " 15  gross income             1000 non-null   float64       \n",
      " 16  Rating                   1000 non-null   float64       \n",
      "dtypes: datetime64[ns](1), float64(7), int64(1), object(8)\n",
      "memory usage: 132.9+ KB\n"
     ]
    }
   ],
   "source": [
    "data.info()"
   ]
  },
  {
   "cell_type": "code",
   "execution_count": 11,
   "metadata": {},
   "outputs": [],
   "source": [
    "# membuat alias \n",
    "df = data"
   ]
  },
  {
   "cell_type": "code",
   "execution_count": 12,
   "metadata": {},
   "outputs": [
    {
     "data": {
      "text/html": [
       "<div>\n",
       "<style scoped>\n",
       "    .dataframe tbody tr th:only-of-type {\n",
       "        vertical-align: middle;\n",
       "    }\n",
       "\n",
       "    .dataframe tbody tr th {\n",
       "        vertical-align: top;\n",
       "    }\n",
       "\n",
       "    .dataframe thead th {\n",
       "        text-align: right;\n",
       "    }\n",
       "</style>\n",
       "<table border=\"1\" class=\"dataframe\">\n",
       "  <thead>\n",
       "    <tr style=\"text-align: right;\">\n",
       "      <th></th>\n",
       "      <th>Invoice ID</th>\n",
       "      <th>Branch</th>\n",
       "      <th>City</th>\n",
       "      <th>Customer type</th>\n",
       "      <th>Gender</th>\n",
       "      <th>Product line</th>\n",
       "      <th>Unit price</th>\n",
       "      <th>Quantity</th>\n",
       "      <th>Tax 5%</th>\n",
       "      <th>Total</th>\n",
       "      <th>Date</th>\n",
       "      <th>Time</th>\n",
       "      <th>Payment</th>\n",
       "      <th>cogs</th>\n",
       "      <th>gross margin percentage</th>\n",
       "      <th>gross income</th>\n",
       "      <th>Rating</th>\n",
       "    </tr>\n",
       "  </thead>\n",
       "  <tbody>\n",
       "    <tr>\n",
       "      <th>0</th>\n",
       "      <td>750-67-8428</td>\n",
       "      <td>A</td>\n",
       "      <td>Yangon</td>\n",
       "      <td>Member</td>\n",
       "      <td>Female</td>\n",
       "      <td>Health and beauty</td>\n",
       "      <td>74.69</td>\n",
       "      <td>7</td>\n",
       "      <td>26.1415</td>\n",
       "      <td>548.9715</td>\n",
       "      <td>2019-01-05</td>\n",
       "      <td>13:08:00</td>\n",
       "      <td>Ewallet</td>\n",
       "      <td>522.83</td>\n",
       "      <td>4.761905</td>\n",
       "      <td>26.1415</td>\n",
       "      <td>9.1</td>\n",
       "    </tr>\n",
       "    <tr>\n",
       "      <th>1</th>\n",
       "      <td>226-31-3081</td>\n",
       "      <td>C</td>\n",
       "      <td>Naypyitaw</td>\n",
       "      <td>Normal</td>\n",
       "      <td>Female</td>\n",
       "      <td>Electronic accessories</td>\n",
       "      <td>15.28</td>\n",
       "      <td>5</td>\n",
       "      <td>3.8200</td>\n",
       "      <td>80.2200</td>\n",
       "      <td>2019-03-08</td>\n",
       "      <td>10:29:00</td>\n",
       "      <td>Cash</td>\n",
       "      <td>76.40</td>\n",
       "      <td>4.761905</td>\n",
       "      <td>3.8200</td>\n",
       "      <td>9.6</td>\n",
       "    </tr>\n",
       "  </tbody>\n",
       "</table>\n",
       "</div>"
      ],
      "text/plain": [
       "    Invoice ID Branch       City Customer type  Gender  \\\n",
       "0  750-67-8428      A     Yangon        Member  Female   \n",
       "1  226-31-3081      C  Naypyitaw        Normal  Female   \n",
       "\n",
       "             Product line  Unit price  Quantity   Tax 5%     Total       Date  \\\n",
       "0       Health and beauty       74.69         7  26.1415  548.9715 2019-01-05   \n",
       "1  Electronic accessories       15.28         5   3.8200   80.2200 2019-03-08   \n",
       "\n",
       "       Time  Payment    cogs  gross margin percentage  gross income  Rating  \n",
       "0  13:08:00  Ewallet  522.83                 4.761905       26.1415     9.1  \n",
       "1  10:29:00     Cash   76.40                 4.761905        3.8200     9.6  "
      ]
     },
     "execution_count": 12,
     "metadata": {},
     "output_type": "execute_result"
    }
   ],
   "source": [
    "# Menampilkan 2 baris pertama pada dataframe\n",
    "df.head(2)"
   ]
  },
  {
   "cell_type": "code",
   "execution_count": 13,
   "metadata": {},
   "outputs": [
    {
     "data": {
      "text/html": [
       "<div>\n",
       "<style scoped>\n",
       "    .dataframe tbody tr th:only-of-type {\n",
       "        vertical-align: middle;\n",
       "    }\n",
       "\n",
       "    .dataframe tbody tr th {\n",
       "        vertical-align: top;\n",
       "    }\n",
       "\n",
       "    .dataframe thead th {\n",
       "        text-align: right;\n",
       "    }\n",
       "</style>\n",
       "<table border=\"1\" class=\"dataframe\">\n",
       "  <thead>\n",
       "    <tr style=\"text-align: right;\">\n",
       "      <th></th>\n",
       "      <th>Invoice ID</th>\n",
       "      <th>Branch</th>\n",
       "      <th>City</th>\n",
       "      <th>Customer type</th>\n",
       "      <th>Gender</th>\n",
       "      <th>Product line</th>\n",
       "      <th>Unit price</th>\n",
       "      <th>Quantity</th>\n",
       "      <th>Tax 5%</th>\n",
       "      <th>Total</th>\n",
       "      <th>Date</th>\n",
       "      <th>Time</th>\n",
       "      <th>Payment</th>\n",
       "      <th>cogs</th>\n",
       "      <th>gross margin percentage</th>\n",
       "      <th>gross income</th>\n",
       "      <th>Rating</th>\n",
       "    </tr>\n",
       "  </thead>\n",
       "  <tbody>\n",
       "    <tr>\n",
       "      <th>0</th>\n",
       "      <td>750-67-8428</td>\n",
       "      <td>A</td>\n",
       "      <td>Yangon</td>\n",
       "      <td>Member</td>\n",
       "      <td>Female</td>\n",
       "      <td>Health and beauty</td>\n",
       "      <td>74.69</td>\n",
       "      <td>7</td>\n",
       "      <td>26.1415</td>\n",
       "      <td>548.9715</td>\n",
       "      <td>2019-01-05</td>\n",
       "      <td>13:08:00</td>\n",
       "      <td>Ewallet</td>\n",
       "      <td>522.83</td>\n",
       "      <td>4.761905</td>\n",
       "      <td>26.1415</td>\n",
       "      <td>9.1</td>\n",
       "    </tr>\n",
       "    <tr>\n",
       "      <th>1</th>\n",
       "      <td>226-31-3081</td>\n",
       "      <td>C</td>\n",
       "      <td>Naypyitaw</td>\n",
       "      <td>Normal</td>\n",
       "      <td>Female</td>\n",
       "      <td>Electronic accessories</td>\n",
       "      <td>15.28</td>\n",
       "      <td>5</td>\n",
       "      <td>3.8200</td>\n",
       "      <td>80.2200</td>\n",
       "      <td>2019-03-08</td>\n",
       "      <td>10:29:00</td>\n",
       "      <td>Cash</td>\n",
       "      <td>76.40</td>\n",
       "      <td>4.761905</td>\n",
       "      <td>3.8200</td>\n",
       "      <td>9.6</td>\n",
       "    </tr>\n",
       "    <tr>\n",
       "      <th>2</th>\n",
       "      <td>631-41-3108</td>\n",
       "      <td>A</td>\n",
       "      <td>Yangon</td>\n",
       "      <td>Normal</td>\n",
       "      <td>Male</td>\n",
       "      <td>Home and lifestyle</td>\n",
       "      <td>46.33</td>\n",
       "      <td>7</td>\n",
       "      <td>16.2155</td>\n",
       "      <td>340.5255</td>\n",
       "      <td>2019-03-03</td>\n",
       "      <td>13:23:00</td>\n",
       "      <td>Credit card</td>\n",
       "      <td>324.31</td>\n",
       "      <td>4.761905</td>\n",
       "      <td>16.2155</td>\n",
       "      <td>7.4</td>\n",
       "    </tr>\n",
       "    <tr>\n",
       "      <th>3</th>\n",
       "      <td>123-19-1176</td>\n",
       "      <td>A</td>\n",
       "      <td>Yangon</td>\n",
       "      <td>Member</td>\n",
       "      <td>Male</td>\n",
       "      <td>Health and beauty</td>\n",
       "      <td>58.22</td>\n",
       "      <td>8</td>\n",
       "      <td>23.2880</td>\n",
       "      <td>489.0480</td>\n",
       "      <td>2019-01-27</td>\n",
       "      <td>20:33:00</td>\n",
       "      <td>Ewallet</td>\n",
       "      <td>465.76</td>\n",
       "      <td>4.761905</td>\n",
       "      <td>23.2880</td>\n",
       "      <td>8.4</td>\n",
       "    </tr>\n",
       "    <tr>\n",
       "      <th>4</th>\n",
       "      <td>373-73-7910</td>\n",
       "      <td>A</td>\n",
       "      <td>Yangon</td>\n",
       "      <td>Normal</td>\n",
       "      <td>Male</td>\n",
       "      <td>Sports and travel</td>\n",
       "      <td>86.31</td>\n",
       "      <td>7</td>\n",
       "      <td>30.2085</td>\n",
       "      <td>634.3785</td>\n",
       "      <td>2019-02-08</td>\n",
       "      <td>10:37:00</td>\n",
       "      <td>Ewallet</td>\n",
       "      <td>604.17</td>\n",
       "      <td>4.761905</td>\n",
       "      <td>30.2085</td>\n",
       "      <td>5.3</td>\n",
       "    </tr>\n",
       "  </tbody>\n",
       "</table>\n",
       "</div>"
      ],
      "text/plain": [
       "    Invoice ID Branch       City Customer type  Gender  \\\n",
       "0  750-67-8428      A     Yangon        Member  Female   \n",
       "1  226-31-3081      C  Naypyitaw        Normal  Female   \n",
       "2  631-41-3108      A     Yangon        Normal    Male   \n",
       "3  123-19-1176      A     Yangon        Member    Male   \n",
       "4  373-73-7910      A     Yangon        Normal    Male   \n",
       "\n",
       "             Product line  Unit price  Quantity   Tax 5%     Total       Date  \\\n",
       "0       Health and beauty       74.69         7  26.1415  548.9715 2019-01-05   \n",
       "1  Electronic accessories       15.28         5   3.8200   80.2200 2019-03-08   \n",
       "2      Home and lifestyle       46.33         7  16.2155  340.5255 2019-03-03   \n",
       "3       Health and beauty       58.22         8  23.2880  489.0480 2019-01-27   \n",
       "4       Sports and travel       86.31         7  30.2085  634.3785 2019-02-08   \n",
       "\n",
       "       Time      Payment    cogs  gross margin percentage  gross income  \\\n",
       "0  13:08:00      Ewallet  522.83                 4.761905       26.1415   \n",
       "1  10:29:00         Cash   76.40                 4.761905        3.8200   \n",
       "2  13:23:00  Credit card  324.31                 4.761905       16.2155   \n",
       "3  20:33:00      Ewallet  465.76                 4.761905       23.2880   \n",
       "4  10:37:00      Ewallet  604.17                 4.761905       30.2085   \n",
       "\n",
       "   Rating  \n",
       "0     9.1  \n",
       "1     9.6  \n",
       "2     7.4  \n",
       "3     8.4  \n",
       "4     5.3  "
      ]
     },
     "execution_count": 13,
     "metadata": {},
     "output_type": "execute_result"
    }
   ],
   "source": [
    "# Menampilkan 5 baris pertama pada dataframe\n",
    "data.head()"
   ]
  },
  {
   "cell_type": "code",
   "execution_count": 14,
   "metadata": {},
   "outputs": [],
   "source": [
    "# save to csv\n",
    "data.to_csv('New_Supermarket_sales.csv',index=False)"
   ]
  },
  {
   "cell_type": "code",
   "execution_count": 26,
   "metadata": {},
   "outputs": [
    {
     "data": {
      "text/plain": [
       "0"
      ]
     },
     "execution_count": 26,
     "metadata": {},
     "output_type": "execute_result"
    }
   ],
   "source": [
    "# Melihat apakah ada data yang terduplicate\n",
    "data.duplicated().sum()"
   ]
  },
  {
   "cell_type": "code",
   "execution_count": 15,
   "metadata": {},
   "outputs": [
    {
     "name": "stdout",
     "output_type": "stream",
     "text": [
      "<class 'pandas.core.frame.DataFrame'>\n",
      "RangeIndex: 1000 entries, 0 to 999\n",
      "Data columns (total 17 columns):\n",
      " #   Column                   Non-Null Count  Dtype         \n",
      "---  ------                   --------------  -----         \n",
      " 0   Invoice ID               1000 non-null   object        \n",
      " 1   Branch                   1000 non-null   object        \n",
      " 2   City                     1000 non-null   object        \n",
      " 3   Customer type            1000 non-null   object        \n",
      " 4   Gender                   1000 non-null   object        \n",
      " 5   Product line             1000 non-null   object        \n",
      " 6   Unit price               1000 non-null   float64       \n",
      " 7   Quantity                 1000 non-null   int64         \n",
      " 8   Tax 5%                   1000 non-null   float64       \n",
      " 9   Total                    1000 non-null   float64       \n",
      " 10  Date                     1000 non-null   datetime64[ns]\n",
      " 11  Time                     1000 non-null   object        \n",
      " 12  Payment                  1000 non-null   object        \n",
      " 13  cogs                     1000 non-null   float64       \n",
      " 14  gross margin percentage  1000 non-null   float64       \n",
      " 15  gross income             1000 non-null   float64       \n",
      " 16  Rating                   1000 non-null   float64       \n",
      "dtypes: datetime64[ns](1), float64(7), int64(1), object(8)\n",
      "memory usage: 132.9+ KB\n"
     ]
    }
   ],
   "source": [
    "# Melihat ringkasan pada dataframe\n",
    "data.info()"
   ]
  },
  {
   "cell_type": "markdown",
   "metadata": {},
   "source": [
    "## Melihat cabang-cabang yang ada dalam dataset"
   ]
  },
  {
   "cell_type": "code",
   "execution_count": 16,
   "metadata": {},
   "outputs": [
    {
     "data": {
      "text/plain": [
       "array(['A', 'C', 'B'], dtype=object)"
      ]
     },
     "execution_count": 16,
     "metadata": {},
     "output_type": "execute_result"
    }
   ],
   "source": [
    "df['Branch'].unique()"
   ]
  },
  {
   "cell_type": "markdown",
   "metadata": {},
   "source": [
    "## Melihat banyaknya tiap cabang"
   ]
  },
  {
   "cell_type": "code",
   "execution_count": 17,
   "metadata": {},
   "outputs": [
    {
     "data": {
      "text/plain": [
       "Branch\n",
       "A    340\n",
       "B    332\n",
       "C    328\n",
       "Name: count, dtype: int64"
      ]
     },
     "execution_count": 17,
     "metadata": {},
     "output_type": "execute_result"
    }
   ],
   "source": [
    "df['Branch'].value_counts()"
   ]
  },
  {
   "cell_type": "markdown",
   "metadata": {},
   "source": [
    "# **Analisis dan Perhitungan**\n",
    "> Bagian ini berisi proses analisis, penjelasan, perhitungan statistik deskriptif, inferensial, serta pembuatan visualisasi data. Untuk visualisasi data wajib memberikan insight di tiap visualisasinya."
   ]
  },
  {
   "cell_type": "markdown",
   "metadata": {},
   "source": [
    "## Proses Analisis\n",
    "\n",
    "> Data transaksi supermarket dianalisis dengan mengelompokkan berdasarkan kategori produk, jenis kelamin, cabang, dan tipe pelanggan untuk memahami pola pembelian dan performa penjualan di setiap segment."
   ]
  },
  {
   "cell_type": "markdown",
   "metadata": {},
   "source": [
    "## Penjelasan\n",
    ">Hasil analisis ini membantu mengidentifikasi kategori produk yang paling laris, distribusi penjualan berdasarkan gender, performa cabang, serta efektivitas program keanggotaan dalam mendorong penjualan."
   ]
  },
  {
   "cell_type": "markdown",
   "metadata": {},
   "source": [
    "## Statistik Deskriptif\n",
    "> Dalam analisis deskriptif ini, saya menggunakan konsep central tendency untuk memahami nilai rata-rata penjualan per transaksi. "
   ]
  },
  {
   "cell_type": "markdown",
   "metadata": {},
   "source": [
    "### Berapa rata-rata penjualan per transaksi?\n"
   ]
  },
  {
   "cell_type": "code",
   "execution_count": 18,
   "metadata": {},
   "outputs": [
    {
     "name": "stdout",
     "output_type": "stream",
     "text": [
      "Rata-rata penjualan per transaksi: $322.97\n",
      "Median penjualan per transaksi: $253.85\n"
     ]
    }
   ],
   "source": [
    "# Menghitung statistik deskriptif\n",
    "mean_sales = df['Total'].mean()\n",
    "median_sales = df['Total'].median()\n",
    "\n",
    "print(f\"Rata-rata penjualan per transaksi: ${mean_sales:.2f}\")\n",
    "print(f\"Median penjualan per transaksi: ${median_sales:.2f}\")"
   ]
  },
  {
   "cell_type": "markdown",
   "metadata": {},
   "source": [
    "\n",
    "\n",
    "- Rata-rata penjualan per transaksi adalah $322.97. Ini menunjukkan bahwa, secara umum, setiap transaksi di supermarket menghasilkan penjualan sekitar $322.97.\n",
    "> Nilai ini mengindikasikan bahwa pelanggan sering melakukan pembelian yang melibatkan barang dengan nilai tinggi atau membeli lebih dari satu item dalam satu transaksi.\n",
    "Median Penjualan per Transaksi:\n",
    "\n",
    "- Median penjualan per transaksi adalah $253.85. Artinya, setengah dari transaksi memiliki nilai penjualan kurang dari atau sama dengan $253.85, sementara setengah lainnya memiliki nilai penjualan lebih dari $253.85.\n",
    "> Median memberikan gambaran yang lebih stabil tentang transaksi tipikal dibandingkan rata-rata, yang dapat dipengaruhi oleh transaksi dengan nilai yang sangat tinggi."
   ]
  },
  {
   "cell_type": "markdown",
   "metadata": {},
   "source": [
    "## Statistik Inferensial"
   ]
  },
  {
   "cell_type": "markdown",
   "metadata": {},
   "source": [
    "### Apakah ada perbedaan signifikan dalam rata-rata penjualan antar semua cabang?\n",
    "> menggunakan uji One-Way ANOVA untuk menguji apakah terdapat perbedaan signifikan dalam rata-rata penjualan antara cabang-cabang yang berbeda.\n",
    "\n",
    "> Uji One-Way ANOVA digunakan untuk menentukan apakah ada perbedaan yang signifikan dalam rata-rata penjualan antara lebih dari dua kelompok, dalam hal ini antara cabang A, B, dan C.\n",
    "\n",
    "> - Hipotesis Nol (H0): Rata-rata penjualan di cabang A, B, dan C tidak berbeda secara signifikan.\n",
    "\n",
    "> - Hipotesis Alternatif (H1): Setidaknya ada satu cabang yang rata-rata penjualannya berbeda secara signifikan dari cabang lainnya.\n",
    "\n",
    "> Untuk tingkat Signifikansinya Saya akan menggunakan tingkat signifikansi sebesar 0.05 (5%). Artinya, jika :\n",
    "\n",
    "> nilai p yang diperoleh dari uji ANOVA kurang dari 0.05, kita akan menolak hipotesis nol dan menyimpulkan bahwa ada perbedaan signifikan dalam rata-rata penjualan antara cabang-cabang tersebut."
   ]
  },
  {
   "cell_type": "code",
   "execution_count": 19,
   "metadata": {},
   "outputs": [],
   "source": [
    "from scipy import stats\n",
    "\n",
    "# Mengambil data penjualan untuk setiap cabang\n",
    "sales_A = df[df['Branch'] == 'A']['Total']\n",
    "sales_B = df[df['Branch'] == 'B']['Total']\n",
    "sales_C = df[df['Branch'] == 'C']['Total']\n",
    "\n",
    "# Melakukan One-Way ANOVA\n",
    "f_statistic, p_value = stats.f_oneway(sales_A, sales_B, sales_C)"
   ]
  },
  {
   "cell_type": "code",
   "execution_count": 20,
   "metadata": {},
   "outputs": [
    {
     "name": "stdout",
     "output_type": "stream",
     "text": [
      "0.8845828327760512\n",
      "0.413210174367147\n"
     ]
    }
   ],
   "source": [
    "print(f_statistic)\n",
    "print(p_value)"
   ]
  },
  {
   "cell_type": "markdown",
   "metadata": {},
   "source": [
    "> Hasil uji One-Way ANOVA menunjukkan nilai F-statistic sebesar 0.884 dan nilai p sebesar 0.413. Karena nilai p lebih besar dari 0.05, kita tidak dapat menolak hipotesis nol. Ini berarti tidak ada perbedaan signifikan dalam rata-rata penjualan antara cabang A, B, dan C. Dengan kata lain, rata-rata penjualan di ketiga cabang tersebut tidak berbeda secara statistik pada tingkat signifikansi 5%."
   ]
  },
  {
   "cell_type": "markdown",
   "metadata": {},
   "source": [
    "## Visualisasi Data"
   ]
  },
  {
   "cell_type": "markdown",
   "metadata": {},
   "source": [
    "### Import Libraries"
   ]
  },
  {
   "cell_type": "code",
   "execution_count": 21,
   "metadata": {},
   "outputs": [],
   "source": [
    "import pandas as pd\n",
    "import matplotlib.pyplot as plt\n",
    "import seaborn as sns\n",
    "\n",
    "df = pd.read_csv('supermarket_sales.csv')"
   ]
  },
  {
   "cell_type": "markdown",
   "metadata": {},
   "source": [
    "### Kategori produk apa yang memiliki total penjualan tertinggi?"
   ]
  },
  {
   "cell_type": "code",
   "execution_count": 22,
   "metadata": {},
   "outputs": [
    {
     "data": {
      "image/png": "[encoded data removed]",
      "text/plain": [
       "<Figure size 800x600 with 1 Axes>"
      ]
     },
     "metadata": {},
     "output_type": "display_data"
    }
   ],
   "source": [
    "# Membuat Visualisasi data\n",
    "plt.figure(figsize=(8, 6))\n",
    "sns.barplot(x='Product line', y='Total', data=df, estimator=sum, errorbar=None, hue='Product line', palette='viridis', legend=False)\n",
    "plt.title('Total Penjualan per Kategori Produk')\n",
    "plt.xlabel('Kategori Produk')\n",
    "plt.ylabel('Total Penjualan')\n",
    "plt.xticks(rotation=45)\n",
    "plt.show()"
   ]
  },
  {
   "cell_type": "markdown",
   "metadata": {},
   "source": [
    "#### Penjelasan\n",
    "> - Grafik batang ini menunjukkan total penjualan untuk masing-masing kategori produk. Setiap batang mewakili satu kategori produk, dan tingginya menunjukkan jumlah penjualan."
   ]
  },
  {
   "cell_type": "markdown",
   "metadata": {},
   "source": [
    "#### Insight\n",
    "> Dari grafik ini, terlihat bahwa kategori produk yang memiliki total penjualan tertinggi adalah \"Fashion accessories\". Hal ini dapat mengindikasikan bahwa produk dalam kategori ini lebih diminati atau memiliki volume penjualan yang lebih tinggi dibandingkan kategori lainnya."
   ]
  },
  {
   "cell_type": "markdown",
   "metadata": {},
   "source": [
    "### Bagaimana distribusi penjualan antara pelanggan pria dan wanita?"
   ]
  },
  {
   "cell_type": "code",
   "execution_count": 23,
   "metadata": {},
   "outputs": [
    {
     "data": {
      "image/png": "[encoded data removed]",
      "text/plain": [
       "<Figure size 400x400 with 1 Axes>"
      ]
     },
     "metadata": {},
     "output_type": "display_data"
    }
   ],
   "source": [
    "# Membuat Visualisasi Data\n",
    "plt.figure(figsize=(4, 4))\n",
    "gender_sales = data.groupby('Gender')['Total'].sum()\n",
    "gender_sales.plot(kind='pie', autopct='%1.1f%%', colors=['#66b3ff','#ff9999'], startangle=140)\n",
    "plt.title('Distribusi Penjualan Berdasarkan Jenis Kelamin')\n",
    "plt.ylabel('')\n",
    "plt.show()"
   ]
  },
  {
   "cell_type": "markdown",
   "metadata": {},
   "source": [
    "#### Penjelasan\n",
    "> Grafik pie ini menunjukkan distribusi penjualan berdasarkan jenis kelamin. Bagian biru mewakili penjualan dari pelanggan wanita, sementara bagian merah mewakili penjualan dari pelanggan pria."
   ]
  },
  {
   "cell_type": "markdown",
   "metadata": {},
   "source": [
    "#### Insight\n",
    "> Distribusi penjualan antara pria dan wanita cukup seimbang, dengan wanita sedikit lebih tinggi pada 52% dan pria di 48%. Ini menunjukkan bahwa produk atau layanan yang ditawarkan memiliki daya tarik yang relatif sama untuk kedua jenis kelamin."
   ]
  },
  {
   "cell_type": "markdown",
   "metadata": {},
   "source": [
    "### Cabang mana yang memiliki total penjualan tertinggi?"
   ]
  },
  {
   "cell_type": "code",
   "execution_count": 24,
   "metadata": {},
   "outputs": [
    {
     "data": {
      "image/png": "[encoded data removed]",
      "text/plain": [
       "<Figure size 600x400 with 1 Axes>"
      ]
     },
     "metadata": {},
     "output_type": "display_data"
    }
   ],
   "source": [
    "# Membuat Visualisasi Data\n",
    "plt.figure(figsize=(6, 4))\n",
    "sns.barplot(x='Branch', y='Total', data=df, estimator=sum, errorbar=None, hue='Branch', palette='muted', legend=False)\n",
    "plt.title('Total Penjualan di Masing-Masing Cabang')\n",
    "plt.xlabel('Cabang Supermarket')\n",
    "plt.ylabel('Total Penjualan')\n",
    "plt.show()\n"
   ]
  },
  {
   "cell_type": "markdown",
   "metadata": {},
   "source": [
    "#### Penjelasan\n",
    "> Grafik batang ini membandingkan total penjualan dari tiga cabang supermarket (A, B, dan C)."
   ]
  },
  {
   "cell_type": "markdown",
   "metadata": {},
   "source": [
    "#### Insight\n",
    "> Cabang C memiliki total penjualan tertinggi dibandingkan dengan cabang A dan B. Ini mungkin disebabkan oleh lokasi strategis, basis pelanggan yang lebih besar, atau faktor-faktor lain yang mendukung penjualan di cabang tersebut."
   ]
  },
  {
   "cell_type": "markdown",
   "metadata": {},
   "source": [
    "### Apakah anggota (members) memiliki tren pembelian yang berbeda dibandingkan pelanggan biasa?"
   ]
  },
  {
   "cell_type": "code",
   "execution_count": 25,
   "metadata": {},
   "outputs": [
    {
     "data": {
      "image/png": "[encoded data removed]",
      "text/plain": [
       "<Figure size 800x500 with 1 Axes>"
      ]
     },
     "metadata": {},
     "output_type": "display_data"
    }
   ],
   "source": [
    "# Membuat Visualisasi Data\n",
    "plt.figure(figsize=(8, 5))\n",
    "sns.barplot(x='Customer type', y='Total', data=data, estimator='mean', errorbar=None)\n",
    "plt.title('Rata-rata Total Penjualan per Tipe Pelanggan')\n",
    "plt.xlabel('Tipe Pelanggan')\n",
    "plt.ylabel('Rata-rata Total Penjualan')\n",
    "plt.show()"
   ]
  },
  {
   "cell_type": "markdown",
   "metadata": {},
   "source": [
    "#### Penjelasan\n",
    "> Grafik batang ini menunjukkan rata-rata total penjualan berdasarkan tipe pelanggan, yaitu anggota (members) dan pelanggan biasa (normal)."
   ]
  },
  {
   "cell_type": "markdown",
   "metadata": {},
   "source": [
    "#### Insight\n",
    "> Rata-rata total penjualan antara anggota dan pelanggan biasa hampir sama, menunjukkan bahwa tidak ada perbedaan signifikan dalam tren pembelian antara keduanya. Ini mungkin menunjukkan bahwa strategi pemasaran atau insentif yang diberikan kepada anggota tidak berdampak signifikan pada peningkatan penjualan dibandingkan pelanggan biasa."
   ]
  },
  {
   "cell_type": "markdown",
   "metadata": {},
   "source": [
    "# Pengambilan Kesimpulan\n",
    "\n",
    "**Identifikasi Masalah**\n",
    "\n",
    "> Supermarket yang beroperasi di berbagai kota menghadapi tantangan untuk meningkatkan penjualan mereka dengan menyesuaikan strategi pemasaran berdasarkan preferensi pelanggan yang berbeda-beda. Oleh karena itu, perlu dilakukan analisis mendalam terhadap pola pembelian pelanggan dengan fokus pada kategori produk, jenis kelamin, dan tipe pelanggan. Dalam latar belakang permasalahan ini, penting untuk memahami bahwa strategi yang tepat sasaran akan memberikan keunggulan kompetitif yang signifikan. Oleh karena itu, penelitian ini bertujuan untuk meningkatkan penjualan supermarket sebesar 10% dalam waktu enam bulan dengan memanfaatkan data yang ada untuk merancang strategi pemasaran yang lebih efektif. Fokus utama akan diarahkan pada cabang-cabang yang memiliki performa lebih rendah dan memaksimalkan potensi dari kategori produk yang paling diminati oleh pelanggan.\n",
    "\n",
    "**Proses Analisis**\n",
    "\n",
    "> Data transaksi supermarket dianalisis dengan cara mengelompokkan informasi berdasarkan kategori produk, jenis kelamin, cabang, dan tipe pelanggan. Langkah ini dilakukan untuk mengidentifikasi pola pembelian dan mengukur performa penjualan di setiap segmen. Hasil analisis ini memberikan wawasan penting mengenai produk yang paling laris, distribusi penjualan antara pelanggan pria dan wanita, performa setiap cabang, serta dampak program keanggotaan dalam meningkatkan penjualan.\n",
    "\n",
    "**Statistik Deskriptif**\n",
    "\n",
    "> Berdasarkan analisis statistik deskriptif, rata-rata penjualan per transaksi di supermarket tercatat sebesar $322.97. Angka ini menunjukkan bahwa pelanggan cenderung melakukan pembelian dengan nilai yang cukup tinggi, atau mereka membeli lebih dari satu item dalam satu transaksi. Selain itu, median penjualan per transaksi adalah $253.85, yang memberikan gambaran lebih stabil tentang transaksi tipikal dibandingkan dengan rata-rata, yang bisa saja dipengaruhi oleh transaksi dengan nilai yang sangat tinggi.\n",
    "\n",
    "**Statistik Inferensial**\n",
    "\n",
    "> Untuk mengetahui apakah ada perbedaan signifikan dalam rata-rata penjualan antar cabang supermarket, dilakukan uji One-Way ANOVA. Hasil uji ini menunjukkan bahwa tidak ada perbedaan signifikan dalam rata-rata penjualan antara cabang A, B, dan C. Dengan demikian, rata-rata penjualan di ketiga cabang tersebut dianggap tidak berbeda secara statistik pada tingkat signifikansi 5%.\n",
    "\n",
    "**Visualisasi Data**\n",
    "\n",
    "> Dari hasil visualisasi data, terlihat bahwa kategori produk \"Fashion accessories\" memiliki total penjualan tertinggi dibandingkan kategori lainnya. Hal ini mengindikasikan bahwa produk dalam kategori ini lebih diminati atau memiliki volume penjualan yang lebih tinggi. Selain itu, distribusi penjualan berdasarkan jenis kelamin menunjukkan bahwa penjualan antara pria dan wanita cukup seimbang, dengan persentase wanita sedikit lebih tinggi di angka 52%, sedangkan pria 48%. Ini menunjukkan bahwa produk atau layanan yang ditawarkan memiliki daya tarik yang relatif sama untuk kedua jenis kelamin.\n",
    "\n",
    "> Analisis lebih lanjut menunjukkan bahwa cabang C mencatatkan total penjualan tertinggi dibandingkan dengan cabang A dan B. Kemungkinan, hal ini disebabkan oleh lokasi strategis atau faktor-faktor lain yang mendukung penjualan di cabang tersebut. Namun, hasil analisis juga menunjukkan bahwa tidak ada perbedaan signifikan dalam tren pembelian antara anggota (members) dan pelanggan biasa, yang mungkin mengindikasikan bahwa program keanggotaan belum memberikan dampak yang cukup besar terhadap peningkatan penjualan."
   ]
  },
  {
   "cell_type": "markdown",
   "metadata": {},
   "source": [
    "# Rekomendasi\n",
    "> Berdasarkan kesimpulan dari analisis data penjualan supermarket, berikut adalah beberapa rekomendasi strategi yang dapat diterapkan untuk mengatasi permasalahan yang diidentifikasi dan meningkatkan penjualan sebesar 10% dalam waktu enam bulan:\n",
    "\n",
    "1. **Optimalisasi Penjualan Kategori Produk Populer**\n",
    "   - **Fokus pada Kategori Fashion Accessories:** Mengingat kategori \"Fashion accessories\" memiliki penjualan tertinggi, supermarket dapat meningkatkan fokus pada kategori ini dengan memperluas variasi produk, mengadakan promosi khusus, atau memberikan diskon untuk produk-produk dalam kategori ini. Strategi ini dapat menarik lebih banyak pelanggan yang tertarik pada produk fashion dan aksesoris, sehingga meningkatkan total penjualan.\n",
    "\n",
    "2. **Segmentasi Berdasarkan Jenis Kelamin**\n",
    "   - **Kampanye Pemasaran Berdasarkan Jenis Kelamin:** Mengingat distribusi penjualan antara pria dan wanita hampir seimbang, supermarket dapat mengembangkan kampanye pemasaran yang disesuaikan dengan preferensi masing-masing jenis kelamin. Misalnya, promosi produk tertentu yang lebih disukai oleh pria atau wanita, atau kampanye yang menekankan kesetaraan dalam penawaran produk.\n",
    "\n",
    "3. **Peningkatan Program Keanggotaan**\n",
    "   - **Revitalisasi Program Keanggotaan:** Mengingat program keanggotaan saat ini belum memberikan dampak signifikan, supermarket dapat mempertimbangkan untuk merevisi manfaat keanggotaan, seperti memberikan diskon khusus, akses eksklusif ke promosi, atau program loyalitas yang lebih menarik. Selain itu, strategi pemasaran yang lebih agresif untuk merekrut anggota baru juga dapat dipertimbangkan.\n",
    "\n",
    "4. **Pengembangan Strategi Berdasarkan Lokasi Cabang**\n",
    "   - **Optimalkan Cabang Berkinerja Rendah:** Cabang dengan penjualan lebih rendah (A dan B) dapat dioptimalkan dengan analisis lebih mendalam terhadap faktor-faktor yang mempengaruhi performa, seperti lokasi, stok produk, layanan pelanggan, atau persaingan lokal. Berdasarkan hasil analisis, manajemen dapat menyesuaikan strategi pemasaran lokal, meningkatkan layanan, atau melakukan rebranding untuk menarik lebih banyak pelanggan di cabang-cabang ini.\n",
    "\n",
    "5. **Penyesuaian Promosi dan Penawaran Produk**\n",
    "   - **Peningkatan Variasi Promosi:** Dengan mempertimbangkan median penjualan yang lebih stabil, supermarket dapat mempertimbangkan untuk menjalankan promosi yang menargetkan pelanggan dengan transaksi bernilai sedang hingga tinggi. Misalnya, bundling produk atau menawarkan diskon untuk pembelian dalam jumlah tertentu dapat mendorong pelanggan untuk meningkatkan nilai transaksi mereka.\n",
    "\n",
    "6. **Penguatan Analisis dan Pengambilan Keputusan**\n",
    "   - **Penerapan Data-Driven Marketing:** Dengan data yang lebih mendalam tentang preferensi pelanggan, supermarket dapat memanfaatkan teknologi analitik untuk terus memantau tren pembelian dan menyesuaikan strategi pemasaran secara real-time. Ini termasuk mengidentifikasi peluang baru berdasarkan tren penjualan, mengukur efektivitas kampanye, dan menyesuaikan strategi dengan cepat untuk mencapai target peningkatan penjualan.\n",
    "\n",
    "Dengan menerapkan rekomendasi ini, supermarket diharapkan dapat mencapai target peningkatan penjualan sebesar 10% dalam enam bulan, serta meningkatkan daya saing mereka di pasar yang semakin kompetitif."
   ]
  },
  {
   "cell_type": "markdown",
   "metadata": {},
   "source": []
  }
 ],
 "metadata": {
  "kernelspec": {
   "display_name": "base",
   "language": "python",
   "name": "python3"
  },
  "language_info": {
   "codemirror_mode": {
    "name": "ipython",
    "version": 3
   },
   "file_extension": ".py",
   "mimetype": "text/x-python",
   "name": "python",
   "nbconvert_exporter": "python",
   "pygments_lexer": "ipython3",
   "version": "3.9.19"
  }
 },
 "nbformat": 4,
 "nbformat_minor": 2
}
